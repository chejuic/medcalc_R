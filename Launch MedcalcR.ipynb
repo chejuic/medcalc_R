{
 "cells": [
  {
   "cell_type": "code",
   "execution_count": 1,
   "metadata": {},
   "outputs": [],
   "source": [
    "# -*- coding: utf-8 -*- \n",
    "# coding:unicode_escape"
   ]
  },
  {
   "cell_type": "code",
   "execution_count": 2,
   "metadata": {},
   "outputs": [],
   "source": [
    "%%capture cap \n",
    "!conda env list\n",
    "#列出所有 env, 為了找出目前的 env 位置"
   ]
  },
  {
   "cell_type": "code",
   "execution_count": 3,
   "metadata": {},
   "outputs": [
    {
     "data": {
      "text/plain": [
       "['#',\n",
       " 'conda',\n",
       " 'environments:',\n",
       " '#',\n",
       " 'base',\n",
       " 'C:\\\\ProgramData\\\\Anaconda3',\n",
       " 'climate_Taiwan',\n",
       " 'D:\\\\Users\\\\ntuhuser.NTUH\\\\.conda\\\\envs\\\\climate_Taiwan',\n",
       " 'medcalcR',\n",
       " '*',\n",
       " 'D:\\\\Users\\\\ntuhuser.NTUH\\\\.conda\\\\envs\\\\medcalcR',\n",
       " 'ntuh_captcha',\n",
       " 'D:\\\\Users\\\\ntuhuser.NTUH\\\\.conda\\\\envs\\\\ntuh_captcha']"
      ]
     },
     "execution_count": 3,
     "metadata": {},
     "output_type": "execute_result"
    }
   ],
   "source": [
    "cap.stdout.split()"
   ]
  },
  {
   "cell_type": "code",
   "execution_count": 4,
   "metadata": {},
   "outputs": [
    {
     "data": {
      "text/plain": [
       "'D:\\\\Users\\\\ntuhuser.NTUH\\\\.conda\\\\envs\\\\medcalcR'"
      ]
     },
     "execution_count": 4,
     "metadata": {},
     "output_type": "execute_result"
    }
   ],
   "source": [
    "env_directory_index = cap.stdout.split().index('*')+1 #星號的下一個就是目前的 env 位置\n",
    "env_directory = cap.stdout.split()[env_directory_index]\n",
    "env_directory"
   ]
  },
  {
   "cell_type": "code",
   "execution_count": 5,
   "metadata": {},
   "outputs": [],
   "source": [
    "#前置步驟\n",
    "#conda install r\n",
    "#conda install pandas\n",
    "#D:\\Users\\l1204366\\anaconda3\\envs\\climate_Taiwan/Scripts/pip install rpy2 #根據env位置而定\n",
    "\n",
    "import os\n",
    "os.environ[\"R_HOME\"] = env_directory + r'\\Lib\\R'\n",
    "os.environ[\"PATH\"]   = env_directory + r'\\Lib\\R\\bin\\x64' + \";\" + os.environ[\"PATH\"]"
   ]
  },
  {
   "cell_type": "code",
   "execution_count": 6,
   "metadata": {},
   "outputs": [
    {
     "name": "stderr",
     "output_type": "stream",
     "text": [
      "D:\\Users\\ntuhuser.NTUH\\.conda\\envs\\medcalcR\\lib\\site-packages\\rpy2\\robjects\\packages.py:365: UserWarning: The symbol 'quartz' is not in this R namespace/package.\n",
      "  warnings.warn(\n"
     ]
    }
   ],
   "source": [
    "%load_ext rpy2.ipython"
   ]
  },
  {
   "cell_type": "code",
   "execution_count": 7,
   "metadata": {},
   "outputs": [
    {
     "name": "stdout",
     "output_type": "stream",
     "text": [
      "[1] \"R version 3.6.1 (2019-07-05)\"\n"
     ]
    }
   ],
   "source": [
    "%%R\n",
    "R.version.string"
   ]
  },
  {
   "cell_type": "code",
   "execution_count": 8,
   "metadata": {},
   "outputs": [],
   "source": [
    "%%R\n",
    "## Default repo\n",
    "local({r <- getOption(\"repos\")\n",
    "       r[\"CRAN\"] <- \"http://cran.csie.ntu.edu.tw/\" \n",
    "       options(repos=r)\n",
    "})\n",
    "## Encoding\n",
    "options(encoding = \"UTF-8\")"
   ]
  },
  {
   "cell_type": "code",
   "execution_count": 9,
   "metadata": {},
   "outputs": [],
   "source": [
    "%%R\n",
    "# Install and load required R packages\n",
    "# ipak function: install and load multiple R packages.\n",
    "# check to see if packages are installed. Install them if they are not, then load them into the R session.\n",
    "ipak <- function(pkg){\n",
    "  new.pkg <- pkg[!(pkg %in% installed.packages()[, \"Package\"])]\n",
    "  if (length(new.pkg)) \n",
    "    install.packages(new.pkg, dependencies = TRUE)\n",
    "  sapply(pkg, require, character.only = TRUE)}"
   ]
  },
  {
   "cell_type": "code",
   "execution_count": 10,
   "metadata": {
    "scrolled": true
   },
   "outputs": [
    {
     "name": "stderr",
     "output_type": "stream",
     "text": [
      "R[write to console]: Loading required package: shinydashboard\n",
      "\n",
      "R[write to console]: \n",
      "Attaching package: 'shinydashboard'\n",
      "\n",
      "\n",
      "R[write to console]: The following object is masked from 'package:graphics':\n",
      "\n",
      "    box\n",
      "\n",
      "\n",
      "R[write to console]: Loading required package: shiny\n",
      "\n",
      "R[write to console]: Loading required package: DT\n",
      "\n",
      "R[write to console]: This version of Shiny is designed to work with 'htmlwidgets' >= 1.5.\n",
      "    Please upgrade via install.packages('htmlwidgets').\n",
      "\n",
      "R[write to console]: \n",
      "Attaching package: 'DT'\n",
      "\n",
      "\n",
      "R[write to console]: The following objects are masked from 'package:shiny':\n",
      "\n",
      "    dataTableOutput, renderDataTable\n",
      "\n",
      "\n",
      "R[write to console]: Loading required package: gsheet\n",
      "\n",
      "R[write to console]: Loading required package: rsconnect\n",
      "\n",
      "R[write to console]: \n",
      "Attaching package: 'rsconnect'\n",
      "\n",
      "\n",
      "R[write to console]: The following object is masked from 'package:shiny':\n",
      "\n",
      "    serverInfo\n",
      "\n",
      "\n"
     ]
    },
    {
     "name": "stdout",
     "output_type": "stream",
     "text": [
      "shinydashboard          shiny             DT         gsheet      rsconnect \n",
      "          TRUE           TRUE           TRUE           TRUE           TRUE \n"
     ]
    }
   ],
   "source": [
    "%%R\n",
    "ipak(c('shinydashboard','shiny','DT','gsheet','rsconnect'))"
   ]
  },
  {
   "cell_type": "code",
   "execution_count": 11,
   "metadata": {
    "scrolled": true
   },
   "outputs": [
    {
     "name": "stderr",
     "output_type": "stream",
     "text": [
      "R[write to console]: Registered S3 method overwritten by 'openssl':\n",
      "  method      from\n",
      "  print.bytes Rcpp\n",
      "\n"
     ]
    }
   ],
   "source": [
    "%%R\n",
    "rsconnect::setAccountInfo(name='chejuic', token='1E6E894EEECD580657D87A3B33406185', secret='H99PmEZZyr3a4jboY1aU+FFmZraPeHR9LRt8jWMG')"
   ]
  },
  {
   "cell_type": "code",
   "execution_count": 12,
   "metadata": {
    "scrolled": true
   },
   "outputs": [
    {
     "name": "stdout",
     "output_type": "stream",
     "text": [
      "Preparing to deploy application...Update application currently deployed at\n",
      "https://chejuic.shinyapps.io/ascvd_aha_2013/? [Y/n] Y\n",
      "DONE\n",
      "Uploading bundle for application: 3319212..."
     ]
    },
    {
     "name": "stderr",
     "output_type": "stream",
     "text": [
      "R[write to console]: Detecting system locale ... \n",
      "R[write to console]: zh_TW\n",
      "\n"
     ]
    },
    {
     "name": "stdout",
     "output_type": "stream",
     "text": [
      "DONE\n",
      "Deploying bundle: 3932016 for application: 3319212 ...\n",
      "Waiting for task: 833412076\n",
      "  building: Processing bundle: 3932016\n",
      "  building: Fetching packages\n",
      "  building: Installing packages\n",
      "  building: Installing files\n",
      "  building: Pushing image: 4479092\n",
      "  deploying: Starting instances\n",
      "  rollforward: Activating new instances\n",
      "  terminating: Stopping old instances\n",
      "Application successfully deployed to https://chejuic.shinyapps.io/ascvd_aha_2013/\n"
     ]
    }
   ],
   "source": [
    "%%R\n",
    "rsconnect::deployApp('ASCVD_AHA_2013')"
   ]
  }
 ],
 "metadata": {
  "kernelspec": {
   "display_name": "Python 3",
   "language": "python",
   "name": "python3"
  },
  "language_info": {
   "codemirror_mode": {
    "name": "ipython",
    "version": 3
   },
   "file_extension": ".py",
   "mimetype": "text/x-python",
   "name": "python",
   "nbconvert_exporter": "python",
   "pygments_lexer": "ipython3",
   "version": "3.8.5"
  }
 },
 "nbformat": 4,
 "nbformat_minor": 4
}
