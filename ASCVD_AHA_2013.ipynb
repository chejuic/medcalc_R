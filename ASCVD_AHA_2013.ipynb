{
 "cells": [
  {
   "cell_type": "code",
   "execution_count": 1,
   "metadata": {},
   "outputs": [],
   "source": [
    "# -*- coding: utf-8 -*- \n",
    "# coding:unicode_escape"
   ]
  },
  {
   "cell_type": "code",
   "execution_count": 2,
   "metadata": {},
   "outputs": [],
   "source": [
    "%%capture cap \n",
    "!conda env list\n",
    "#列出所有 env, 為了找出目前的 env 位置"
   ]
  },
  {
   "cell_type": "code",
   "execution_count": 3,
   "metadata": {
    "scrolled": true
   },
   "outputs": [
    {
     "data": {
      "text/plain": [
       "['#',\n",
       " 'conda',\n",
       " 'environments:',\n",
       " '#',\n",
       " 'base',\n",
       " 'C:\\\\ProgramData\\\\Anaconda3',\n",
       " 'climate_Taiwan',\n",
       " 'D:\\\\Users\\\\ntuhuser.NTUH\\\\.conda\\\\envs\\\\climate_Taiwan',\n",
       " 'medcalcR',\n",
       " '*',\n",
       " 'D:\\\\Users\\\\ntuhuser.NTUH\\\\.conda\\\\envs\\\\medcalcR',\n",
       " 'ntuh_captcha',\n",
       " 'D:\\\\Users\\\\ntuhuser.NTUH\\\\.conda\\\\envs\\\\ntuh_captcha']"
      ]
     },
     "execution_count": 3,
     "metadata": {},
     "output_type": "execute_result"
    }
   ],
   "source": [
    "cap.stdout.split()"
   ]
  },
  {
   "cell_type": "code",
   "execution_count": 4,
   "metadata": {},
   "outputs": [
    {
     "data": {
      "text/plain": [
       "'D:\\\\Users\\\\ntuhuser.NTUH\\\\.conda\\\\envs\\\\medcalcR'"
      ]
     },
     "execution_count": 4,
     "metadata": {},
     "output_type": "execute_result"
    }
   ],
   "source": [
    "env_directory_index = cap.stdout.split().index('*')+1 #星號的下一個就是目前的 env 位置\n",
    "env_directory = cap.stdout.split()[env_directory_index]\n",
    "env_directory"
   ]
  },
  {
   "cell_type": "code",
   "execution_count": 5,
   "metadata": {},
   "outputs": [],
   "source": [
    "#前置步驟\n",
    "#conda install r\n",
    "#conda install pandas\n",
    "#D:\\Users\\l1204366\\anaconda3\\envs\\climate_Taiwan/Scripts/pip install rpy2 #根據env位置而定\n",
    "\n",
    "import os\n",
    "os.environ[\"R_HOME\"] = env_directory + r'\\Lib\\R'\n",
    "os.environ[\"PATH\"]   = env_directory + r'\\Lib\\R\\bin\\x64' + \";\" + os.environ[\"PATH\"]"
   ]
  },
  {
   "cell_type": "code",
   "execution_count": 6,
   "metadata": {},
   "outputs": [
    {
     "name": "stderr",
     "output_type": "stream",
     "text": [
      "D:\\Users\\ntuhuser.NTUH\\.conda\\envs\\medcalcR\\lib\\site-packages\\rpy2\\robjects\\packages.py:365: UserWarning: The symbol 'quartz' is not in this R namespace/package.\n",
      "  warnings.warn(\n"
     ]
    }
   ],
   "source": [
    "%load_ext rpy2.ipython"
   ]
  },
  {
   "cell_type": "code",
   "execution_count": 7,
   "metadata": {},
   "outputs": [
    {
     "name": "stdout",
     "output_type": "stream",
     "text": [
      "[1] \"R version 3.6.1 (2019-07-05)\"\n"
     ]
    }
   ],
   "source": [
    "%%R\n",
    "R.version.string"
   ]
  },
  {
   "cell_type": "code",
   "execution_count": 8,
   "metadata": {},
   "outputs": [],
   "source": [
    "%%R\n",
    "## Default repo\n",
    "local({r <- getOption(\"repos\")\n",
    "       r[\"CRAN\"] <- \"http://cran.csie.ntu.edu.tw/\" \n",
    "       options(repos=r)\n",
    "})\n",
    "## Encoding\n",
    "options(encoding = \"UTF-8\")"
   ]
  },
  {
   "cell_type": "code",
   "execution_count": 9,
   "metadata": {},
   "outputs": [],
   "source": [
    "%%R\n",
    "# Install and load required R packages\n",
    "# ipak function: install and load multiple R packages.\n",
    "# check to see if packages are installed. Install them if they are not, then load them into the R session.\n",
    "ipak <- function(pkg){\n",
    "  new.pkg <- pkg[!(pkg %in% installed.packages()[, \"Package\"])]\n",
    "  if (length(new.pkg)) \n",
    "    install.packages(new.pkg, dependencies = TRUE)\n",
    "  sapply(pkg, require, character.only = TRUE)}"
   ]
  },
  {
   "cell_type": "code",
   "execution_count": 10,
   "metadata": {},
   "outputs": [
    {
     "name": "stderr",
     "output_type": "stream",
     "text": [
      "R[write to console]: Loading required package: shinydashboard\n",
      "\n",
      "R[write to console]: \n",
      "Attaching package: 'shinydashboard'\n",
      "\n",
      "\n",
      "R[write to console]: The following object is masked from 'package:graphics':\n",
      "\n",
      "    box\n",
      "\n",
      "\n",
      "R[write to console]: Loading required package: shiny\n",
      "\n",
      "R[write to console]: Loading required package: DT\n",
      "\n",
      "R[write to console]: This version of Shiny is designed to work with 'htmlwidgets' >= 1.5.\n",
      "    Please upgrade via install.packages('htmlwidgets').\n",
      "\n",
      "R[write to console]: \n",
      "Attaching package: 'DT'\n",
      "\n",
      "\n",
      "R[write to console]: The following objects are masked from 'package:shiny':\n",
      "\n",
      "    dataTableOutput, renderDataTable\n",
      "\n",
      "\n",
      "R[write to console]: Loading required package: gsheet\n",
      "\n"
     ]
    },
    {
     "name": "stdout",
     "output_type": "stream",
     "text": [
      "shinydashboard          shiny             DT         gsheet \n",
      "          TRUE           TRUE           TRUE           TRUE \n"
     ]
    }
   ],
   "source": [
    "%%R\n",
    "ipak(c('shinydashboard','shiny','DT','gsheet'))"
   ]
  },
  {
   "cell_type": "code",
   "execution_count": 11,
   "metadata": {},
   "outputs": [],
   "source": [
    "%%R\n",
    "ctab = gsheet2tbl(\"https://docs.google.com/spreadsheets/d/1eU_eywdp52pJzhVHuAEyEc1cmVKE-qj3MHcGkGK33yE/edit#gid=1506178737\")\n",
    "# type:\t1~4, corresponding to female_white, female_african, male_white, male_african\n",
    "# population: female_white, female_african, male_white, male_african\n",
    "# c_ln_age: coefficient of ln(age)\n",
    "# c_ln_age_sq: coefficient of ln(age)^2\n",
    "# c_ln_tcho: coefficient of ln(total cholesterol)\n",
    "# c_ln_age_ln_tcho: coefficient of ln(age)*ln(total cholesterol)\n",
    "# c_ln_hdl: coefficient of ln(high-density lipoprotein)\n",
    "# c_ln_age_ln_hdl: coefficient of ln(age)*ln(high-density lipoprotein)\n",
    "# c_ln_tsbp: coefficient of ln(treated systolic blood pressure)\n",
    "# c_ln_age_ln_tsbp: coefficient of ln(age)*ln(treated systolic blood pressure)\n",
    "# c_ln_sbp: coefficient of ln(systolic blood pressure)\n",
    "# c_ln_age_ln_sbp: coefficient of ln(age)*ln(systolic blood pressure)\n",
    "# c_smoker: coefficient of current smoker\n",
    "# c_ln_age_smoker: coefficient of ln(age) * (current smoker)\n",
    "# c_dm: coefficient of diabetes\n",
    "inptab = gsheet2tbl(\"https://docs.google.com/spreadsheets/d/1eU_eywdp52pJzhVHuAEyEc1cmVKE-qj3MHcGkGK33yE/edit#gid=345204773\")\n",
    "# sex: choose between female and male (biological)\n",
    "# race: choose between African and other (white, asian, etc.)\n",
    "# age: input number between 40 and 79\n",
    "# tcho: input number between 130 and 320\t\n",
    "# hdl: input number between 20 and 100\n",
    "# sbp: input number between 90 and 200\n",
    "# htn: choose between 1 (treated for hypertension) and 0 (not treated for hypertension)\n",
    "# dm: choose between 1 (diabetic) and 0 (not diabetic)\n",
    "# smoker: choose between 1 (current smoker) and 0 (not current smoker)"
   ]
  },
  {
   "cell_type": "code",
   "execution_count": 12,
   "metadata": {},
   "outputs": [
    {
     "name": "stdout",
     "output_type": "stream",
     "text": [
      "      type       population           mean_sum      baseline_survival\n",
      " Min.   :1.00   Length:4           Min.   :-29.18   Min.   :0.8954   \n",
      " 1st Qu.:1.75   Class :character   1st Qu.:  7.36   1st Qu.:0.9096   \n",
      " Median :2.50   Mode  :character   Median : 40.36   Median :0.9338   \n",
      " Mean   :2.50                      Mean   : 34.54   Mean   :0.9324   \n",
      " 3rd Qu.:3.25                      3rd Qu.: 67.54   3rd Qu.:0.9566   \n",
      " Max.   :4.00                      Max.   : 86.61   Max.   :0.9665   \n",
      "    c_ln_age        c_ln_age_sq      c_ln_tcho       c_ln_age_ln_tcho\n",
      " Min.   :-29.799   Min.   :0.000   Min.   : 0.3020   Min.   :-3.114  \n",
      " 1st Qu.: -5.598   1st Qu.:0.000   1st Qu.: 0.7805   1st Qu.:-2.776  \n",
      " Median :  7.407   Median :0.000   Median : 6.3965   Median :-1.332  \n",
      " Mean   :  0.532   Mean   :1.221   Mean   : 6.6588   Mean   :-1.444  \n",
      " 3rd Qu.: 13.537   3rd Qu.:1.221   3rd Qu.:12.2747   3rd Qu.: 0.000  \n",
      " Max.   : 17.114   Max.   :4.884   Max.   :13.5400   Max.   : 0.000  \n",
      "    c_ln_hdl       c_ln_age_ln_hdl   c_ln_tsbp      c_ln_age_ln_tsbp\n",
      " Min.   :-18.920   Min.   :0.000   Min.   : 1.797   Min.   :-6.432  \n",
      " 1st Qu.:-14.914   1st Qu.:1.327   1st Qu.: 1.886   1st Qu.:-1.608  \n",
      " Median :-10.784   Median :2.459   Median : 1.968   Median : 0.000  \n",
      " Mean   :-10.199   Mean   :2.348   Mean   : 8.756   Mean   :-1.608  \n",
      " 3rd Qu.: -6.069   3rd Qu.:3.481   3rd Qu.: 8.837   3rd Qu.: 0.000  \n",
      " Max.   : -0.307   Max.   :4.475   Max.   :29.291   Max.   : 0.000  \n",
      "    c_ln_sbp      c_ln_age_ln_sbp     c_smoker      c_ln_age_smoker  \n",
      " Min.   : 1.764   Min.   :-6.087   Min.   :0.5490   Min.   :-1.7950  \n",
      " 1st Qu.: 1.798   1st Qu.:-1.522   1st Qu.:0.6555   1st Qu.:-1.6975  \n",
      " Median : 1.883   Median : 0.000   Median :4.1325   Median :-0.8325  \n",
      " Mean   : 8.338   Mean   :-1.522   Mean   :4.1627   Mean   :-0.8650  \n",
      " 3rd Qu.: 8.423   3rd Qu.: 0.000   3rd Qu.:7.6398   3rd Qu.: 0.0000  \n",
      " Max.   :27.820   Max.   : 0.000   Max.   :7.8370   Max.   : 0.0000  \n",
      "      c_dm       \n",
      " Min.   :0.6450  \n",
      " 1st Qu.:0.6548  \n",
      " Median :0.6595  \n",
      " Mean   :0.7095  \n",
      " 3rd Qu.:0.7143  \n",
      " Max.   :0.8740  \n"
     ]
    }
   ],
   "source": [
    "%%R\n",
    "summary(ctab)"
   ]
  },
  {
   "cell_type": "code",
   "execution_count": 13,
   "metadata": {},
   "outputs": [
    {
     "name": "stdout",
     "output_type": "stream",
     "text": [
      "     sex                race                age          tcho          hdl    \n",
      " Length:1           Length:1           Min.   :40   Min.   :210   Min.   :30  \n",
      " Class :character   Class :character   1st Qu.:40   1st Qu.:210   1st Qu.:30  \n",
      " Mode  :character   Mode  :character   Median :40   Median :210   Median :30  \n",
      "                                       Mean   :40   Mean   :210   Mean   :30  \n",
      "                                       3rd Qu.:40   3rd Qu.:210   3rd Qu.:30  \n",
      "                                       Max.   :40   Max.   :210   Max.   :30  \n",
      "      sbp           htn          dm        smoker \n",
      " Min.   :150   Min.   :0   Min.   :0   Min.   :1  \n",
      " 1st Qu.:150   1st Qu.:0   1st Qu.:0   1st Qu.:1  \n",
      " Median :150   Median :0   Median :0   Median :1  \n",
      " Mean   :150   Mean   :0   Mean   :0   Mean   :1  \n",
      " 3rd Qu.:150   3rd Qu.:0   3rd Qu.:0   3rd Qu.:1  \n",
      " Max.   :150   Max.   :0   Max.   :0   Max.   :1  \n"
     ]
    }
   ],
   "source": [
    "%%R\n",
    "summary(inptab)"
   ]
  },
  {
   "cell_type": "code",
   "execution_count": 14,
   "metadata": {},
   "outputs": [
    {
     "name": "stdout",
     "output_type": "stream",
     "text": [
      "[1] 1\n"
     ]
    }
   ],
   "source": [
    "%%R\n",
    "# determine the coefficient by input table variable sex and race\n",
    "population_type = NULL # population_type = 1~4 corresponding to ctab$type\n",
    "if (inptab$sex == 'female') {\n",
    "  population_type <- if(inptab$race == 'other') 1 else 2\n",
    "  } else {\n",
    "  population_type <- if(inptab$race == 'other') 3 else 4    \n",
    "  }\n",
    "population_type"
   ]
  },
  {
   "cell_type": "code",
   "execution_count": 15,
   "metadata": {},
   "outputs": [
    {
     "name": "stdout",
     "output_type": "stream",
     "text": [
      "     c_ln_age c_ln_age_sq c_ln_tcho c_ln_age_ln_tcho c_ln_hdl c_ln_age_ln_hdl\n",
      "[1,]  -29.799       4.884     13.54           -3.114  -13.578           3.149\n",
      "     c_ln_tsbp c_ln_age_ln_tsbp c_ln_sbp c_ln_age_ln_sbp c_smoker\n",
      "[1,]     2.019                0    1.957               0    7.574\n",
      "     c_ln_age_smoker  c_dm\n",
      "[1,]          -1.665 0.661\n"
     ]
    }
   ],
   "source": [
    "%%R\n",
    "# present the coefficients as matrix with dimention 1*13 (r*c)\n",
    "cmat <- as.matrix(ctab[ctab$type==population_type, ][-1:-4])\n",
    "cmat"
   ]
  },
  {
   "cell_type": "code",
   "execution_count": 25,
   "metadata": {},
   "outputs": [
    {
     "name": "stdout",
     "output_type": "stream",
     "text": [
      "                    [,1]\n",
      "ln_age          3.688879\n",
      "ln_age_sq      13.607832\n",
      "ln_tcho         5.347108\n",
      "ln_age_ln_tcho 19.724835\n",
      "ln_hdl          3.401197\n",
      "ln_age_ln_hdl  12.546607\n",
      "ln_tsbp         0.000000\n",
      "ln_age_ln_tsbp  0.000000\n",
      "ln_sbp          5.010635\n",
      "ln_age_ln_sbp  18.483630\n",
      "smoker          1.000000\n",
      "ln_age_smoker   3.688879\n",
      "dm              0.000000\n"
     ]
    }
   ],
   "source": [
    "%%R\n",
    "\n",
    "# construct the input matrix with dimention 13*1 (r*c)\n",
    "inpmat <- matrix(c(1:13), nrow = 13, ncol = 1)\n",
    "row.names(inpmat) = c(\"ln_age\", \"ln_age_sq\", \"ln_tcho\", \"ln_age_ln_tcho\", \"ln_hdl\",\n",
    "                      \"ln_age_ln_hdl\", \"ln_tsbp\", \"ln_age_ln_tsbp\", \"ln_sbp\", \"ln_age_ln_sbp\", \n",
    "                      \"smoker\", \"ln_age_smoker\", \"dm\") # corresponding to ctab variables with prefix \"c_\"\n",
    "inpmat[1,] = log(inptab$age)\n",
    "inpmat[2,] = log(inptab$age)^2\n",
    "inpmat[3,] = log(inptab$tcho)\n",
    "inpmat[4,] = inpmat[1,] * log(inptab$tcho)\n",
    "inpmat[5,] = log(inptab$hdl)\n",
    "inpmat[6,] = inpmat[1,] * inpmat[5,]\n",
    "inpmat[7,] <- if(inptab$htn ==0) 0 else log(inptab$sbp)\n",
    "inpmat[8,] <- if(inptab$htn ==0) 0 else inpmat[1,] * inpmat[7,]\n",
    "inpmat[9,] <- if(inptab$htn ==1) 0 else log(inptab$sbp)\n",
    "inpmat[10,] <- if(inptab$htn ==1) 0 else inpmat[1,] * inpmat[9,]\n",
    "inpmat[11,] = inptab$smoker\n",
    "inpmat[12,] = inpmat[1,] * inpmat[11,]\n",
    "inpmat[13,] = inptab$dm\n",
    "inpmat"
   ]
  },
  {
   "cell_type": "code",
   "execution_count": 26,
   "metadata": {},
   "outputs": [],
   "source": [
    "%%R\n",
    "# calculate ASCVD 10-y risk \n",
    "sum = cmat %*% inpmat # matrix multiplication of coefficient matrix to input matrix\n",
    "baseline_survival = ctab$baseline_survival[ctab$type == population_type] # baseline survival according to the population type\n",
    "mean_sum = ctab$mean_sum[ctab$type == population_type] # mean result of matrix multiplication according to the population type\n",
    "ascvd_risk = 1-baseline_survival ^ exp(sum - mean_sum)"
   ]
  },
  {
   "cell_type": "code",
   "execution_count": 27,
   "metadata": {},
   "outputs": [
    {
     "name": "stdout",
     "output_type": "stream",
     "text": [
      "[1] \"ASCVD risk: 11.3 %\"\n"
     ]
    }
   ],
   "source": [
    "%%R\n",
    "# show the result\n",
    "output_text = 'ASCVD risk: '\n",
    "Encoding(output_text) <- 'UTF-8'\n",
    "output_text2 = round(ascvd_risk*100, 2)\n",
    "output_text3 = ' %'\n",
    "final_output = paste0(output_text, output_text2, output_text3)\n",
    "final_output"
   ]
  },
  {
   "cell_type": "code",
   "execution_count": 24,
   "metadata": {},
   "outputs": [
    {
     "name": "stdout",
     "output_type": "stream",
     "text": [
      "          [,1]\n",
      "[1,] -8.547746\n"
     ]
    }
   ],
   "source": [
    "%%R\n",
    "sum - mean_sum"
   ]
  }
 ],
 "metadata": {
  "kernelspec": {
   "display_name": "Python 3",
   "language": "python",
   "name": "python3"
  },
  "language_info": {
   "codemirror_mode": {
    "name": "ipython",
    "version": 3
   },
   "file_extension": ".py",
   "mimetype": "text/x-python",
   "name": "python",
   "nbconvert_exporter": "python",
   "pygments_lexer": "ipython3",
   "version": "3.8.5"
  }
 },
 "nbformat": 4,
 "nbformat_minor": 4
}
